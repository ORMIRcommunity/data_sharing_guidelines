{
 "cells": [
  {
   "cell_type": "markdown",
   "id": "6b7fcb8a",
   "metadata": {},
   "source": [
    "# General Consent Form Language for Data Sharing\n",
    "\n",
    "An excellent resource is provided by **[Open Brain Consent](https://open-brain-consent.readthedocs.io/en/latest/index.html)**. They created and provided suggested language to include in consent forms that would allow public sharing of collected data, termed the \"Ultimate Consent Form\". We have adapted the recommended language from their [Ultimate Consent Form](#modified-ultimate-consent-form-text) and [GDPR Documents](#modified-gdpr-documents) to apply to musculoskeletal imaging. \n",
    "\n",
    "This is very general consent form language that permits sharing very openly to the general public. You may choose to change the language to be restrictive depending on your own and institutional requirements. \n",
    "\n",
    "Open Brain Consent kindly provides these documents in several languages. At this time we have text in English only."
   ]
  },
  {
   "cell_type": "markdown",
   "id": "56a4e898",
   "metadata": {},
   "source": [
    "## Acknowledgment  \n",
    "When using the Open Brain Consent templates, you can mention that your ethics followed the OBC recommendations: Open Brain Consent working group (2021). The Open Brain Consent: Informing research participants and obtaining consent to share brain imaging data. Human Brain Mapping, 1-7 https://doi.org/10.1002/hbm.25351.\n"
   ]
  },
  {
   "cell_type": "markdown",
   "id": "c0a420eb",
   "metadata": {},
   "source": [
    "## Modified Ultimate Consent Form Language \n",
    "### (non-GDPR, modified from Version: OBC-ULT 1.0.1, all data shared publicly)\n",
    "\n",
    "The data and samples from this study might be used for other, future research projects in addition to the study you are currently participating in. Those future projects can focus on any topic that might be unrelated to the goals of this study. We will give access to the data we are collecting, including the imaging data, to the general public via the Internet and a fully open database.  \n",
    "\n",
    "The data we share with the general public will not have your name on it, only a code number, so people will not know your name or which data are yours. In addition, we will not share any other information that we think might help people who know you guess which data are yours.  \n",
    "\n",
    "If you change your mind and withdraw your consent to participate in this study (you can call \\<PI name> at \\<phone number> to do this), we will not collect any additional data about you. We will delete your data if you withdraw before it was deposited in the database. However, any data and research results already shared with other investigators or the general public cannot be destroyed, withdrawn or recalled.  \n",
    "    \n",
    "By agreeing to participate, you will be making a free and generous gift for research that might help others. It is possible that some of the research conducted using your information eventually could lead to the development of new methods for studying the Musculoskeletal System, new diagnostic tests, new drugs or other commercial products. Should this occur, there is no plan to provide you with any part of the profits generated from such products and you will not have any ownership rights in the products.  \n",
    "    \n",
    "To the best of our knowledge, the data we release to the general public will not contain information that can directly identify you. The data will not have your name on it, only a code number, so people will not know your name or which data are yours. In addition, the data will not include data that we think might help people who know you guess which data are yours, such as your facial features or the date that you participated. If we write a report or article about this study or share the study data set with others, we will do so in such a way that you cannot be directly identified. However, by using additional data linked to your name (for example medical imaging scans obtained from your medical records) one could potentially associate your imaging or other information in our database back to you. In addition a security breach (break in or cyber attack) might lead to someone being able to link you to your data. This risk is very low because your data are stored in a secure database, and the information about your identity is stored separately from the data themselves, linked only through a code.  \n",
    "    \n",
    "We will keep the private portion (name, contact information etc.) of your data in a secure location for at least \\<x> years. This way if one of the researchers that obtained the data from us will find something in your scans that would have a diagnostic value we will be able to contact you. After this period of time we will destroy this information to protect your privacy.  \n",
    "    \n",
    "Letting us use and share your data is voluntary. However, you must be willing to share your data in this way in order to participate in this study. If you are not willing, you cannot participate in this study.  \n",
    "\n",
    "By signing below, you agree to provide your data for future research. You agree that these may be shared with other investigators at other institutions from around the world. The details, results, and implications of these studies are unknown.\n",
    "\n"
   ]
  },
  {
   "cell_type": "markdown",
   "id": "0d70fd90",
   "metadata": {},
   "source": [
    "## Modified GDPR Documents\n",
    "\n",
    "### (GDPR edition, modified from Version: OBC-ULT 1.0.1, all data shared publicly)\n",
    "\n",
    "#### Instructions\n",
    "The current version of the ultimate consent form (GDPR edition) is given below. This contains GDPR-specific wording that relates to privacy implications due to the intention of processing and sharing the participant’s data. As such, this is seen as the Privacy Notice form. Informed consent to take part in the study is still recorded for the participant in the main consent form. The form includes some sentences in square brackets [ ], which indicates that they may be removed and/or replaced depending on your local legislation and ethics committee. Some sentences include fields, surrounded by <> to be entered.\n",
    "\n",
    "#### Usage and storage of your data\n",
    "While the collection, use and storage of your data are done for the purpose of conducting the study to which you are currently participating, these data might also be used for other future research projects in the field of musculoskeletal research. This includes data from your musculoskeletal system, and may also include test results from the study you took part in, family and medical history, and also data such as gender and age.  \n",
    "\n",
    "By agreeing to participate, you will be making a free and generous gift for research that might help others. [It is possible that some of the research conducted using your information eventually could lead to the development of new methods for studying the musculoskeletal system, new diagnostic tests, new drugs or other commercial products. Should this occur, there is no plan to provide you with any part of the profits generated from such products and you will not have any ownership rights in the products.] We ask for your consent to this access to your data.  \n",
    "\n",
    "#### Confidentiality of your data\n",
    "To the best of our knowledge, the data we release will not contain information that can directly identify you using reasonable means. To protect your privacy, the data will be given a code, so people will not know your name or which data are yours. Your name, but also other information that can directly identify you, will be omitted. Data can only be traced back to you using information only available to the data processor (i.e. people involved in the study). This information will remain safely stored in the local research institute. The data cannot be traced back to you in reports and publications about the study. However, by using additional data linked to your name (for example medical imaging scans obtained from your medical records) one could potentially associate your imaging or other information in our database back to you. The risks of accessing such data from our servers have however been assessed and are considered to be low (see the university/centre Data Privacy Impact Assessment @\\<URL>).\n",
    "\n",
    "#### Access to your data for verification  \n",
    "Some people can access all your data at the research location, including the original data with your name. This is necessary to check whether the study is being conducted in a good and reliable manner and to be able to notify you and your physician in case of any incidental findings resulting from your scans. Persons who have access to your data for review are: the local committee that monitors the safety of the study, the data controller <institution> working for the primary investigator of the study, and local, national and international supervisory authorities. They will keep your data confidential.\n",
    "\n",
    "#### Retention period of your data  \n",
    "There is no plan to delete your data as they can be re-used for legitimate research interest. We will however re-evaluate every \\<number of years> years if it is worthwhile keeping them.\n",
    "\n",
    "#### Withdrawing consent  \n",
    "You can withdraw your consent to the use of your personal data at any time. This applies to this study and also to the sharing for future research. You have however to understand that once shared with other institutions, it is impossible to remove your data from such copies.\n",
    "\n",
    "#### Passing on to countries outside the European Union (EU)  \n",
    "Your encoded data can also be accessed by and sent to countries outside the EU. This is necessary so that non-EU based scientists can run analyses to verify the scientific results produced from this study or for future unrelated research. In those countries, the EU rules on the protection of your personal data do not apply. However, your privacy will be protected at an equal level, by means of a **future link provided here Data User Agreement**.\n",
    "\n",
    "#### More information about your rights regarding processing of the data  \n",
    "    \n",
    "For general information about your rights regarding the processing of your personal data, you can consult the website of the \\<Institution> Data Protection Authority.\n",
    "If you have questions about your rights, please contact the person responsible for the processing of your personal data. For this study, that is:\n",
    "\\<contact information> (see Appendix for contact details)\n",
    "If you have questions or complaints about the processing of your personal data, we advise you to first contact the research location. You can also contact the Data Protection Officer of \\<Institution> (see the contact details in Appendix ) or the \\<Institution> Data Protection Authority. \n",
    "    \n",
    "Date:  \n",
    "Collected by:  \n",
    "Signature:  \n"
   ]
  },
  {
   "cell_type": "code",
   "execution_count": null,
   "id": "a23aa18f",
   "metadata": {},
   "outputs": [],
   "source": []
  }
 ],
 "metadata": {
  "kernelspec": {
   "display_name": "Python 3 (ipykernel)",
   "language": "python",
   "name": "python3"
  },
  "language_info": {
   "codemirror_mode": {
    "name": "ipython",
    "version": 3
   },
   "file_extension": ".py",
   "mimetype": "text/x-python",
   "name": "python",
   "nbconvert_exporter": "python",
   "pygments_lexer": "ipython3",
   "version": "3.9.6"
  }
 },
 "nbformat": 4,
 "nbformat_minor": 5
}
